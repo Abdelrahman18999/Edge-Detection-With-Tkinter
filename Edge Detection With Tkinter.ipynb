{
 "cells": [
  {
   "cell_type": "markdown",
   "id": "d88b2db5",
   "metadata": {},
   "source": [
    "### In this Notebook You will learn how to make a simple Desktop app. with tkinter and make Edge Detection on an image that you choose from your PC."
   ]
  },
  {
   "cell_type": "markdown",
   "id": "0be2bc32",
   "metadata": {},
   "source": [
    "#### Edge Detection With Tkinter"
   ]
  },
  {
   "cell_type": "code",
   "execution_count": 9,
   "id": "cfb46f0f",
   "metadata": {},
   "outputs": [],
   "source": [
    "from tkinter import *\n",
    "from tkinter import filedialog\n",
    "from PIL import ImageTk , Image          # We need pillow to visualize image in tkinter in an easy way \n",
    "import cv2"
   ]
  },
  {
   "cell_type": "code",
   "execution_count": 10,
   "id": "97069620",
   "metadata": {},
   "outputs": [],
   "source": [
    "def select_image():\n",
    "\n",
    "    global panelA, panelB                   # global reference to the image panels\n",
    "    path = filedialog.askopenfilename()     # open a file chooser dialog and allow the user to select an input image\n",
    "\n",
    "    image = cv2.imread(path)               \n",
    "    gray = cv2.cvtColor(image, cv2.COLOR_BGR2GRAY)\n",
    "    edged = cv2.Canny(gray, 50, 100)\n",
    "    image = cv2.cvtColor(image, cv2.COLOR_BGR2RGB)         # Yeah pillow needs it in RGB\n",
    "   \n",
    "\n",
    "    image = Image.fromarray(image)       # convert the images to PIL format...\n",
    "    edged = Image.fromarray(edged)\n",
    "    \n",
    "    image = ImageTk.PhotoImage(image)    # ...and then to tkinter format\n",
    "    edged = ImageTk.PhotoImage(edged)     \n",
    "\n",
    "        \n",
    "    # if the panels are None, initialize them\n",
    "    if panelA is None or panelB is None:\n",
    "        panelA = Label(image=image)         # the first panel will store our original image\n",
    "        panelA.image = image\n",
    "        panelA.pack(side=\"left\", padx=10, pady=10)   # We need pack for localization\n",
    "        \n",
    "        panelB = Label(image=edged)          # while the second panel will store the edge map\n",
    "        panelB.image = edged\n",
    "        panelB.pack(side=\"right\", padx=10, pady=10)\n",
    " \n",
    "    else:                                # otherwise, update the image panels\n",
    "        panelA.configure(image=image)\n",
    "        panelB.configure(image=edged)\n",
    "        panelA.image = image\n",
    "        panelB.image = edged"
   ]
  },
  {
   "cell_type": "code",
   "execution_count": 11,
   "id": "baabd8ee",
   "metadata": {},
   "outputs": [],
   "source": [
    "# initialize the window toolkit along with the two image panels\n",
    "root = Tk()\n",
    "panelA = None\n",
    "panelB = None\n",
    "\n",
    "# create a button, then when pressed, will trigger a file chooser\n",
    "# dialog and allow the user to select an input image; then add the\n",
    "# button the GUI\n",
    "btn = Button(root, text=\"Select an image\", command=select_image) # yourapp , text ,  binded function\n",
    "btn.pack(side=\"bottom\", fill=\"both\", expand=\"yes\", padx=\"10\", pady=\"10\") #  Localization\n",
    "\n",
    "# kick off the GUI\n",
    "root.mainloop()"
   ]
  },
  {
   "cell_type": "code",
   "execution_count": null,
   "id": "cc2e4e25",
   "metadata": {},
   "outputs": [],
   "source": []
  }
 ],
 "metadata": {
  "kernelspec": {
   "display_name": "Python 3",
   "language": "python",
   "name": "python3"
  },
  "language_info": {
   "codemirror_mode": {
    "name": "ipython",
    "version": 3
   },
   "file_extension": ".py",
   "mimetype": "text/x-python",
   "name": "python",
   "nbconvert_exporter": "python",
   "pygments_lexer": "ipython3",
   "version": "3.8.8"
  }
 },
 "nbformat": 4,
 "nbformat_minor": 5
}
